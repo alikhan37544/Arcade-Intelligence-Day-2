{
 "cells": [
  {
   "cell_type": "markdown",
   "id": "a880f9f1",
   "metadata": {
    "papermill": {
     "duration": 0.012968,
     "end_time": "2022-11-17T11:27:28.705558",
     "exception": false,
     "start_time": "2022-11-17T11:27:28.692590",
     "status": "completed"
    },
    "tags": []
   },
   "source": [
    "#  Car Details from Car Dekho Linear Regression"
   ]
  },
  {
   "cell_type": "markdown",
   "id": "7b03d241",
   "metadata": {
    "papermill": {
     "duration": 0.013075,
     "end_time": "2022-11-17T11:27:28.730214",
     "exception": false,
     "start_time": "2022-11-17T11:27:28.717139",
     "status": "completed"
    },
    "tags": []
   },
   "source": [
    "Importing the Libraries"
   ]
  },
  {
   "cell_type": "code",
   "execution_count": 46,
   "id": "3d30f7dd",
   "metadata": {
    "execution": {
     "iopub.execute_input": "2022-11-17T11:27:28.755638Z",
     "iopub.status.busy": "2022-11-17T11:27:28.755052Z",
     "iopub.status.idle": "2022-11-17T11:27:30.598582Z",
     "shell.execute_reply": "2022-11-17T11:27:30.597328Z"
    },
    "papermill": {
     "duration": 1.859852,
     "end_time": "2022-11-17T11:27:30.601668",
     "exception": false,
     "start_time": "2022-11-17T11:27:28.741816",
     "status": "completed"
    },
    "tags": []
   },
   "outputs": [],
   "source": [
    "import numpy as np\n",
    "import pandas as pd\n",
    "import matplotlib.pyplot as plt\n",
    "%matplotlib inline\n",
    "import seaborn as sns\n",
    "from sklearn.model_selection import train_test_split\n",
    "from sklearn.linear_model import LinearRegression\n",
    "import statsmodels.api as sm\n",
    "from sklearn.linear_model import Lasso\n",
    "from sklearn import metrics"
   ]
  },
  {
   "cell_type": "code",
   "execution_count": 47,
   "id": "9262f349",
   "metadata": {
    "execution": {
     "iopub.execute_input": "2022-11-17T11:27:30.626343Z",
     "iopub.status.busy": "2022-11-17T11:27:30.625952Z",
     "iopub.status.idle": "2022-11-17T11:27:30.647309Z",
     "shell.execute_reply": "2022-11-17T11:27:30.646534Z"
    },
    "papermill": {
     "duration": 0.036769,
     "end_time": "2022-11-17T11:27:30.649876",
     "exception": false,
     "start_time": "2022-11-17T11:27:30.613107",
     "status": "completed"
    },
    "tags": []
   },
   "outputs": [],
   "source": [
    "car_dataset = pd.read_csv('car data.csv')"
   ]
  },
  {
   "cell_type": "markdown",
   "id": "fce723a3",
   "metadata": {
    "papermill": {
     "duration": 0.011591,
     "end_time": "2022-11-17T11:27:30.673730",
     "exception": false,
     "start_time": "2022-11-17T11:27:30.662139",
     "status": "completed"
    },
    "tags": []
   },
   "source": [
    "# Exploratory Data Analysis"
   ]
  },
  {
   "cell_type": "code",
   "execution_count": 48,
   "id": "d08de510",
   "metadata": {
    "execution": {
     "iopub.execute_input": "2022-11-17T11:27:30.701922Z",
     "iopub.status.busy": "2022-11-17T11:27:30.701255Z",
     "iopub.status.idle": "2022-11-17T11:27:30.713571Z",
     "shell.execute_reply": "2022-11-17T11:27:30.712422Z"
    },
    "papermill": {
     "duration": 0.030403,
     "end_time": "2022-11-17T11:27:30.717115",
     "exception": false,
     "start_time": "2022-11-17T11:27:30.686712",
     "status": "completed"
    },
    "tags": []
   },
   "outputs": [
    {
     "data": {
      "text/plain": [
       "(301, 10)"
      ]
     },
     "execution_count": 48,
     "metadata": {},
     "output_type": "execute_result"
    }
   ],
   "source": [
    "car_dataset.shape"
   ]
  },
  {
   "cell_type": "code",
   "execution_count": 49,
   "id": "c77a49d1",
   "metadata": {
    "execution": {
     "iopub.execute_input": "2022-11-17T11:27:30.745497Z",
     "iopub.status.busy": "2022-11-17T11:27:30.744784Z",
     "iopub.status.idle": "2022-11-17T11:27:30.772243Z",
     "shell.execute_reply": "2022-11-17T11:27:30.771049Z"
    },
    "papermill": {
     "duration": 0.044677,
     "end_time": "2022-11-17T11:27:30.775057",
     "exception": false,
     "start_time": "2022-11-17T11:27:30.730380",
     "status": "completed"
    },
    "tags": []
   },
   "outputs": [
    {
     "name": "stdout",
     "output_type": "stream",
     "text": [
      "<class 'pandas.core.frame.DataFrame'>\n",
      "RangeIndex: 301 entries, 0 to 300\n",
      "Data columns (total 10 columns):\n",
      " #   Column         Non-Null Count  Dtype  \n",
      "---  ------         --------------  -----  \n",
      " 0   Car_Name       301 non-null    object \n",
      " 1   company        301 non-null    object \n",
      " 2   Year           301 non-null    int64  \n",
      " 3   Selling_Price  301 non-null    float64\n",
      " 4   Present_Price  301 non-null    float64\n",
      " 5   Kms_Driven     301 non-null    int64  \n",
      " 6   Fuel_Type      301 non-null    object \n",
      " 7   Seller_Type    301 non-null    object \n",
      " 8   Transmission   301 non-null    object \n",
      " 9   Owner          301 non-null    int64  \n",
      "dtypes: float64(2), int64(3), object(5)\n",
      "memory usage: 23.6+ KB\n"
     ]
    }
   ],
   "source": [
    "car_dataset.info()"
   ]
  },
  {
   "cell_type": "code",
   "execution_count": 50,
   "id": "7a93f679",
   "metadata": {
    "execution": {
     "iopub.execute_input": "2022-11-17T11:27:30.801334Z",
     "iopub.status.busy": "2022-11-17T11:27:30.800252Z",
     "iopub.status.idle": "2022-11-17T11:27:30.832984Z",
     "shell.execute_reply": "2022-11-17T11:27:30.831799Z"
    },
    "papermill": {
     "duration": 0.048128,
     "end_time": "2022-11-17T11:27:30.835289",
     "exception": false,
     "start_time": "2022-11-17T11:27:30.787161",
     "status": "completed"
    },
    "tags": []
   },
   "outputs": [
    {
     "data": {
      "text/html": [
       "<div>\n",
       "<style scoped>\n",
       "    .dataframe tbody tr th:only-of-type {\n",
       "        vertical-align: middle;\n",
       "    }\n",
       "\n",
       "    .dataframe tbody tr th {\n",
       "        vertical-align: top;\n",
       "    }\n",
       "\n",
       "    .dataframe thead th {\n",
       "        text-align: right;\n",
       "    }\n",
       "</style>\n",
       "<table border=\"1\" class=\"dataframe\">\n",
       "  <thead>\n",
       "    <tr style=\"text-align: right;\">\n",
       "      <th></th>\n",
       "      <th>Year</th>\n",
       "      <th>Selling_Price</th>\n",
       "      <th>Present_Price</th>\n",
       "      <th>Kms_Driven</th>\n",
       "      <th>Owner</th>\n",
       "    </tr>\n",
       "  </thead>\n",
       "  <tbody>\n",
       "    <tr>\n",
       "      <th>count</th>\n",
       "      <td>301.000000</td>\n",
       "      <td>301.000000</td>\n",
       "      <td>301.000000</td>\n",
       "      <td>301.000000</td>\n",
       "      <td>301.000000</td>\n",
       "    </tr>\n",
       "    <tr>\n",
       "      <th>mean</th>\n",
       "      <td>2013.627907</td>\n",
       "      <td>4.661296</td>\n",
       "      <td>7.628472</td>\n",
       "      <td>36947.205980</td>\n",
       "      <td>0.043189</td>\n",
       "    </tr>\n",
       "    <tr>\n",
       "      <th>std</th>\n",
       "      <td>2.891554</td>\n",
       "      <td>5.082812</td>\n",
       "      <td>8.644115</td>\n",
       "      <td>38886.883882</td>\n",
       "      <td>0.247915</td>\n",
       "    </tr>\n",
       "    <tr>\n",
       "      <th>min</th>\n",
       "      <td>2003.000000</td>\n",
       "      <td>0.100000</td>\n",
       "      <td>0.320000</td>\n",
       "      <td>500.000000</td>\n",
       "      <td>0.000000</td>\n",
       "    </tr>\n",
       "    <tr>\n",
       "      <th>25%</th>\n",
       "      <td>2012.000000</td>\n",
       "      <td>0.900000</td>\n",
       "      <td>1.200000</td>\n",
       "      <td>15000.000000</td>\n",
       "      <td>0.000000</td>\n",
       "    </tr>\n",
       "    <tr>\n",
       "      <th>50%</th>\n",
       "      <td>2014.000000</td>\n",
       "      <td>3.600000</td>\n",
       "      <td>6.400000</td>\n",
       "      <td>32000.000000</td>\n",
       "      <td>0.000000</td>\n",
       "    </tr>\n",
       "    <tr>\n",
       "      <th>75%</th>\n",
       "      <td>2016.000000</td>\n",
       "      <td>6.000000</td>\n",
       "      <td>9.900000</td>\n",
       "      <td>48767.000000</td>\n",
       "      <td>0.000000</td>\n",
       "    </tr>\n",
       "    <tr>\n",
       "      <th>max</th>\n",
       "      <td>2018.000000</td>\n",
       "      <td>35.000000</td>\n",
       "      <td>92.600000</td>\n",
       "      <td>500000.000000</td>\n",
       "      <td>3.000000</td>\n",
       "    </tr>\n",
       "  </tbody>\n",
       "</table>\n",
       "</div>"
      ],
      "text/plain": [
       "              Year  Selling_Price  Present_Price     Kms_Driven       Owner\n",
       "count   301.000000     301.000000     301.000000     301.000000  301.000000\n",
       "mean   2013.627907       4.661296       7.628472   36947.205980    0.043189\n",
       "std       2.891554       5.082812       8.644115   38886.883882    0.247915\n",
       "min    2003.000000       0.100000       0.320000     500.000000    0.000000\n",
       "25%    2012.000000       0.900000       1.200000   15000.000000    0.000000\n",
       "50%    2014.000000       3.600000       6.400000   32000.000000    0.000000\n",
       "75%    2016.000000       6.000000       9.900000   48767.000000    0.000000\n",
       "max    2018.000000      35.000000      92.600000  500000.000000    3.000000"
      ]
     },
     "execution_count": 50,
     "metadata": {},
     "output_type": "execute_result"
    }
   ],
   "source": [
    "car_dataset.describe()"
   ]
  },
  {
   "cell_type": "code",
   "execution_count": 51,
   "id": "529fb898",
   "metadata": {
    "execution": {
     "iopub.execute_input": "2022-11-17T11:27:30.861630Z",
     "iopub.status.busy": "2022-11-17T11:27:30.860729Z",
     "iopub.status.idle": "2022-11-17T11:27:30.870118Z",
     "shell.execute_reply": "2022-11-17T11:27:30.869226Z"
    },
    "papermill": {
     "duration": 0.024576,
     "end_time": "2022-11-17T11:27:30.872162",
     "exception": false,
     "start_time": "2022-11-17T11:27:30.847586",
     "status": "completed"
    },
    "tags": []
   },
   "outputs": [
    {
     "data": {
      "text/plain": [
       "Car_Name         0\n",
       "company          0\n",
       "Year             0\n",
       "Selling_Price    0\n",
       "Present_Price    0\n",
       "Kms_Driven       0\n",
       "Fuel_Type        0\n",
       "Seller_Type      0\n",
       "Transmission     0\n",
       "Owner            0\n",
       "dtype: int64"
      ]
     },
     "execution_count": 51,
     "metadata": {},
     "output_type": "execute_result"
    }
   ],
   "source": [
    "# Checking the missing valuse in the dataset\n",
    "car_dataset.isnull().sum()"
   ]
  },
  {
   "cell_type": "code",
   "execution_count": 52,
   "id": "3f676098",
   "metadata": {
    "execution": {
     "iopub.execute_input": "2022-11-17T11:27:30.897867Z",
     "iopub.status.busy": "2022-11-17T11:27:30.897422Z",
     "iopub.status.idle": "2022-11-17T11:27:30.908762Z",
     "shell.execute_reply": "2022-11-17T11:27:30.907812Z"
    },
    "papermill": {
     "duration": 0.026736,
     "end_time": "2022-11-17T11:27:30.910900",
     "exception": false,
     "start_time": "2022-11-17T11:27:30.884164",
     "status": "completed"
    },
    "tags": []
   },
   "outputs": [
    {
     "data": {
      "text/plain": [
       "True"
      ]
     },
     "execution_count": 52,
     "metadata": {},
     "output_type": "execute_result"
    }
   ],
   "source": [
    "# checking the duplicate values in the dataset\n",
    "car_dup = car_dataset.duplicated().any()\n",
    "car_dup"
   ]
  },
  {
   "cell_type": "code",
   "execution_count": 53,
   "id": "4e95e41d",
   "metadata": {
    "execution": {
     "iopub.execute_input": "2022-11-17T11:27:30.938005Z",
     "iopub.status.busy": "2022-11-17T11:27:30.936876Z",
     "iopub.status.idle": "2022-11-17T11:27:30.955135Z",
     "shell.execute_reply": "2022-11-17T11:27:30.954015Z"
    },
    "papermill": {
     "duration": 0.034058,
     "end_time": "2022-11-17T11:27:30.957585",
     "exception": false,
     "start_time": "2022-11-17T11:27:30.923527",
     "status": "completed"
    },
    "tags": []
   },
   "outputs": [
    {
     "data": {
      "text/html": [
       "<div>\n",
       "<style scoped>\n",
       "    .dataframe tbody tr th:only-of-type {\n",
       "        vertical-align: middle;\n",
       "    }\n",
       "\n",
       "    .dataframe tbody tr th {\n",
       "        vertical-align: top;\n",
       "    }\n",
       "\n",
       "    .dataframe thead th {\n",
       "        text-align: right;\n",
       "    }\n",
       "</style>\n",
       "<table border=\"1\" class=\"dataframe\">\n",
       "  <thead>\n",
       "    <tr style=\"text-align: right;\">\n",
       "      <th></th>\n",
       "      <th>Car_Name</th>\n",
       "      <th>company</th>\n",
       "      <th>Year</th>\n",
       "      <th>Selling_Price</th>\n",
       "      <th>Present_Price</th>\n",
       "      <th>Kms_Driven</th>\n",
       "      <th>Fuel_Type</th>\n",
       "      <th>Seller_Type</th>\n",
       "      <th>Transmission</th>\n",
       "      <th>Owner</th>\n",
       "    </tr>\n",
       "  </thead>\n",
       "  <tbody>\n",
       "    <tr>\n",
       "      <th>0</th>\n",
       "      <td>ritz</td>\n",
       "      <td>maruti suzuki</td>\n",
       "      <td>2014</td>\n",
       "      <td>3.35</td>\n",
       "      <td>5.59</td>\n",
       "      <td>27000</td>\n",
       "      <td>Petrol</td>\n",
       "      <td>Dealer</td>\n",
       "      <td>Manual</td>\n",
       "      <td>0</td>\n",
       "    </tr>\n",
       "    <tr>\n",
       "      <th>1</th>\n",
       "      <td>sx4</td>\n",
       "      <td>maruti suzuki</td>\n",
       "      <td>2013</td>\n",
       "      <td>4.75</td>\n",
       "      <td>9.54</td>\n",
       "      <td>43000</td>\n",
       "      <td>Diesel</td>\n",
       "      <td>Dealer</td>\n",
       "      <td>Manual</td>\n",
       "      <td>0</td>\n",
       "    </tr>\n",
       "    <tr>\n",
       "      <th>2</th>\n",
       "      <td>ciaz</td>\n",
       "      <td>maruti suzuki</td>\n",
       "      <td>2017</td>\n",
       "      <td>7.25</td>\n",
       "      <td>9.85</td>\n",
       "      <td>6900</td>\n",
       "      <td>Petrol</td>\n",
       "      <td>Dealer</td>\n",
       "      <td>Manual</td>\n",
       "      <td>0</td>\n",
       "    </tr>\n",
       "    <tr>\n",
       "      <th>3</th>\n",
       "      <td>wagon r</td>\n",
       "      <td>maruti suzuki</td>\n",
       "      <td>2011</td>\n",
       "      <td>2.85</td>\n",
       "      <td>4.15</td>\n",
       "      <td>5200</td>\n",
       "      <td>Petrol</td>\n",
       "      <td>Dealer</td>\n",
       "      <td>Manual</td>\n",
       "      <td>0</td>\n",
       "    </tr>\n",
       "    <tr>\n",
       "      <th>4</th>\n",
       "      <td>swift</td>\n",
       "      <td>maruti suzuki</td>\n",
       "      <td>2014</td>\n",
       "      <td>4.60</td>\n",
       "      <td>6.87</td>\n",
       "      <td>42450</td>\n",
       "      <td>Diesel</td>\n",
       "      <td>Dealer</td>\n",
       "      <td>Manual</td>\n",
       "      <td>0</td>\n",
       "    </tr>\n",
       "  </tbody>\n",
       "</table>\n",
       "</div>"
      ],
      "text/plain": [
       "  Car_Name        company  Year  Selling_Price  Present_Price  Kms_Driven  \\\n",
       "0     ritz  maruti suzuki  2014           3.35           5.59       27000   \n",
       "1      sx4  maruti suzuki  2013           4.75           9.54       43000   \n",
       "2     ciaz  maruti suzuki  2017           7.25           9.85        6900   \n",
       "3  wagon r  maruti suzuki  2011           2.85           4.15        5200   \n",
       "4    swift  maruti suzuki  2014           4.60           6.87       42450   \n",
       "\n",
       "  Fuel_Type Seller_Type Transmission  Owner  \n",
       "0    Petrol      Dealer       Manual      0  \n",
       "1    Diesel      Dealer       Manual      0  \n",
       "2    Petrol      Dealer       Manual      0  \n",
       "3    Petrol      Dealer       Manual      0  \n",
       "4    Diesel      Dealer       Manual      0  "
      ]
     },
     "execution_count": 53,
     "metadata": {},
     "output_type": "execute_result"
    }
   ],
   "source": [
    "# Need to drop the duplicate values fron the dataset \n",
    "car = car_dataset.drop_duplicates()\n",
    "car.head()"
   ]
  },
  {
   "cell_type": "code",
   "execution_count": 54,
   "id": "ebb43f19",
   "metadata": {
    "execution": {
     "iopub.execute_input": "2022-11-17T11:27:30.984378Z",
     "iopub.status.busy": "2022-11-17T11:27:30.983664Z",
     "iopub.status.idle": "2022-11-17T11:27:30.990210Z",
     "shell.execute_reply": "2022-11-17T11:27:30.989403Z"
    },
    "papermill": {
     "duration": 0.022303,
     "end_time": "2022-11-17T11:27:30.992350",
     "exception": false,
     "start_time": "2022-11-17T11:27:30.970047",
     "status": "completed"
    },
    "tags": []
   },
   "outputs": [
    {
     "data": {
      "text/plain": [
       "(299, 10)"
      ]
     },
     "execution_count": 54,
     "metadata": {},
     "output_type": "execute_result"
    }
   ],
   "source": [
    "car.shape"
   ]
  },
  {
   "cell_type": "code",
   "execution_count": 55,
   "id": "cc595f95",
   "metadata": {
    "execution": {
     "iopub.execute_input": "2022-11-17T11:27:31.019653Z",
     "iopub.status.busy": "2022-11-17T11:27:31.018804Z",
     "iopub.status.idle": "2022-11-17T11:27:31.029377Z",
     "shell.execute_reply": "2022-11-17T11:27:31.028559Z"
    },
    "papermill": {
     "duration": 0.026806,
     "end_time": "2022-11-17T11:27:31.031585",
     "exception": false,
     "start_time": "2022-11-17T11:27:31.004779",
     "status": "completed"
    },
    "tags": []
   },
   "outputs": [
    {
     "data": {
      "text/plain": [
       "False"
      ]
     },
     "execution_count": 55,
     "metadata": {},
     "output_type": "execute_result"
    }
   ],
   "source": [
    "# cross check on dupliucate values\n",
    "car_dup = car.duplicated().any()\n",
    "car_dup"
   ]
  },
  {
   "cell_type": "code",
   "execution_count": 56,
   "id": "ffd718d8",
   "metadata": {
    "execution": {
     "iopub.execute_input": "2022-11-17T11:27:31.059139Z",
     "iopub.status.busy": "2022-11-17T11:27:31.058379Z",
     "iopub.status.idle": "2022-11-17T11:27:31.069074Z",
     "shell.execute_reply": "2022-11-17T11:27:31.067359Z"
    },
    "papermill": {
     "duration": 0.026989,
     "end_time": "2022-11-17T11:27:31.071416",
     "exception": false,
     "start_time": "2022-11-17T11:27:31.044427",
     "status": "completed"
    },
    "tags": []
   },
   "outputs": [
    {
     "name": "stdout",
     "output_type": "stream",
     "text": [
      "Fuel_Type\n",
      "Petrol    239\n",
      "Diesel     58\n",
      "CNG         2\n",
      "Name: count, dtype: int64\n",
      "Seller_Type\n",
      "Dealer        193\n",
      "Individual    106\n",
      "Name: count, dtype: int64\n",
      "Transmission\n",
      "Manual       260\n",
      "Automatic     39\n",
      "Name: count, dtype: int64\n"
     ]
    }
   ],
   "source": [
    "# Chicking the distribution of catogrical variablesin the dataset\n",
    "print(car.Fuel_Type.value_counts())\n",
    "print(car.Seller_Type.value_counts())\n",
    "print(car.Transmission.value_counts())"
   ]
  },
  {
   "cell_type": "code",
   "execution_count": 57,
   "id": "28206958",
   "metadata": {
    "execution": {
     "iopub.execute_input": "2022-11-17T11:27:31.098257Z",
     "iopub.status.busy": "2022-11-17T11:27:31.097899Z",
     "iopub.status.idle": "2022-11-17T11:27:31.107590Z",
     "shell.execute_reply": "2022-11-17T11:27:31.106583Z"
    },
    "papermill": {
     "duration": 0.026131,
     "end_time": "2022-11-17T11:27:31.110067",
     "exception": false,
     "start_time": "2022-11-17T11:27:31.083936",
     "status": "completed"
    },
    "tags": []
   },
   "outputs": [
    {
     "data": {
      "text/plain": [
       "Selling_Price\n",
       "0.45     8\n",
       "0.60     8\n",
       "5.25     7\n",
       "4.50     7\n",
       "0.20     6\n",
       "        ..\n",
       "3.80     1\n",
       "3.45     1\n",
       "5.90     1\n",
       "35.00    1\n",
       "11.50    1\n",
       "Name: count, Length: 156, dtype: int64"
      ]
     },
     "execution_count": 57,
     "metadata": {},
     "output_type": "execute_result"
    }
   ],
   "source": [
    "#Target variable\n",
    "car.Selling_Price.value_counts()"
   ]
  },
  {
   "cell_type": "code",
   "execution_count": 58,
   "id": "aeec1933",
   "metadata": {
    "execution": {
     "iopub.execute_input": "2022-11-17T11:27:31.137481Z",
     "iopub.status.busy": "2022-11-17T11:27:31.137129Z",
     "iopub.status.idle": "2022-11-17T11:27:33.203281Z",
     "shell.execute_reply": "2022-11-17T11:27:33.202462Z"
    },
    "papermill": {
     "duration": 2.082616,
     "end_time": "2022-11-17T11:27:33.205537",
     "exception": false,
     "start_time": "2022-11-17T11:27:31.122921",
     "status": "completed"
    },
    "tags": []
   },
   "outputs": [
    {
     "data": {
      "text/plain": [
       "<Axes: ylabel='count'>"
      ]
     },
     "execution_count": 58,
     "metadata": {},
     "output_type": "execute_result"
    },
    {
     "data": {
      "image/png": "[encoded data removed]",
      "text/plain": [
       "<Figure size 640x480 with 1 Axes>"
      ]
     },
     "metadata": {},
     "output_type": "display_data"
    }
   ],
   "source": [
    "sns.countplot(car['Selling_Price'])"
   ]
  },
  {
   "cell_type": "code",
   "execution_count": 59,
   "id": "9f9fbee6",
   "metadata": {
    "execution": {
     "iopub.execute_input": "2022-11-17T11:27:33.235477Z",
     "iopub.status.busy": "2022-11-17T11:27:33.234521Z",
     "iopub.status.idle": "2022-11-17T11:27:33.250651Z",
     "shell.execute_reply": "2022-11-17T11:27:33.249204Z"
    },
    "papermill": {
     "duration": 0.03425,
     "end_time": "2022-11-17T11:27:33.253180",
     "exception": false,
     "start_time": "2022-11-17T11:27:33.218930",
     "status": "completed"
    },
    "tags": []
   },
   "outputs": [
    {
     "name": "stderr",
     "output_type": "stream",
     "text": [
      "C:\\Users\\alikh\\AppData\\Local\\Temp\\ipykernel_26420\\4023882487.py:2: SettingWithCopyWarning: \n",
      "A value is trying to be set on a copy of a slice from a DataFrame.\n",
      "Try using .loc[row_indexer,col_indexer] = value instead\n",
      "\n",
      "See the caveats in the documentation: https://pandas.pydata.org/pandas-docs/stable/user_guide/indexing.html#returning-a-view-versus-a-copy\n",
      "  car.replace({'Fuel_Type':{'Petrol':0,'Diesel':1,'CNG':2}}, inplace=True)\n",
      "C:\\Users\\alikh\\AppData\\Local\\Temp\\ipykernel_26420\\4023882487.py:5: SettingWithCopyWarning: \n",
      "A value is trying to be set on a copy of a slice from a DataFrame.\n",
      "Try using .loc[row_indexer,col_indexer] = value instead\n",
      "\n",
      "See the caveats in the documentation: https://pandas.pydata.org/pandas-docs/stable/user_guide/indexing.html#returning-a-view-versus-a-copy\n",
      "  car.replace({'Seller_Type':{'Dealer':0,'Individual':1}}, inplace=True)\n",
      "C:\\Users\\alikh\\AppData\\Local\\Temp\\ipykernel_26420\\4023882487.py:8: SettingWithCopyWarning: \n",
      "A value is trying to be set on a copy of a slice from a DataFrame.\n",
      "Try using .loc[row_indexer,col_indexer] = value instead\n",
      "\n",
      "See the caveats in the documentation: https://pandas.pydata.org/pandas-docs/stable/user_guide/indexing.html#returning-a-view-versus-a-copy\n",
      "  car.replace({'Transmission':{'Manual':0,'Automatic':1}}, inplace=True)\n"
     ]
    }
   ],
   "source": [
    "# Encoding the categorical Data (Fuel_Type)\n",
    "car.replace({'Fuel_Type':{'Petrol':0,'Diesel':1,'CNG':2}}, inplace=True)\n",
    "\n",
    "# Encoding the categorical Data (Seller_Type)\n",
    "car.replace({'Seller_Type':{'Dealer':0,'Individual':1}}, inplace=True)\n",
    "\n",
    "# Encoding the categorical Data (Transmission)\n",
    "car.replace({'Transmission':{'Manual':0,'Automatic':1}}, inplace=True)"
   ]
  },
  {
   "cell_type": "code",
   "execution_count": 60,
   "id": "a969ec1b",
   "metadata": {
    "execution": {
     "iopub.execute_input": "2022-11-17T11:27:33.282751Z",
     "iopub.status.busy": "2022-11-17T11:27:33.281437Z",
     "iopub.status.idle": "2022-11-17T11:27:33.297257Z",
     "shell.execute_reply": "2022-11-17T11:27:33.296134Z"
    },
    "papermill": {
     "duration": 0.0326,
     "end_time": "2022-11-17T11:27:33.299416",
     "exception": false,
     "start_time": "2022-11-17T11:27:33.266816",
     "status": "completed"
    },
    "tags": []
   },
   "outputs": [
    {
     "data": {
      "text/html": [
       "<div>\n",
       "<style scoped>\n",
       "    .dataframe tbody tr th:only-of-type {\n",
       "        vertical-align: middle;\n",
       "    }\n",
       "\n",
       "    .dataframe tbody tr th {\n",
       "        vertical-align: top;\n",
       "    }\n",
       "\n",
       "    .dataframe thead th {\n",
       "        text-align: right;\n",
       "    }\n",
       "</style>\n",
       "<table border=\"1\" class=\"dataframe\">\n",
       "  <thead>\n",
       "    <tr style=\"text-align: right;\">\n",
       "      <th></th>\n",
       "      <th>Car_Name</th>\n",
       "      <th>company</th>\n",
       "      <th>Year</th>\n",
       "      <th>Selling_Price</th>\n",
       "      <th>Present_Price</th>\n",
       "      <th>Kms_Driven</th>\n",
       "      <th>Fuel_Type</th>\n",
       "      <th>Seller_Type</th>\n",
       "      <th>Transmission</th>\n",
       "      <th>Owner</th>\n",
       "    </tr>\n",
       "  </thead>\n",
       "  <tbody>\n",
       "    <tr>\n",
       "      <th>0</th>\n",
       "      <td>ritz</td>\n",
       "      <td>maruti suzuki</td>\n",
       "      <td>2014</td>\n",
       "      <td>3.35</td>\n",
       "      <td>5.59</td>\n",
       "      <td>27000</td>\n",
       "      <td>0</td>\n",
       "      <td>0</td>\n",
       "      <td>0</td>\n",
       "      <td>0</td>\n",
       "    </tr>\n",
       "    <tr>\n",
       "      <th>1</th>\n",
       "      <td>sx4</td>\n",
       "      <td>maruti suzuki</td>\n",
       "      <td>2013</td>\n",
       "      <td>4.75</td>\n",
       "      <td>9.54</td>\n",
       "      <td>43000</td>\n",
       "      <td>1</td>\n",
       "      <td>0</td>\n",
       "      <td>0</td>\n",
       "      <td>0</td>\n",
       "    </tr>\n",
       "    <tr>\n",
       "      <th>2</th>\n",
       "      <td>ciaz</td>\n",
       "      <td>maruti suzuki</td>\n",
       "      <td>2017</td>\n",
       "      <td>7.25</td>\n",
       "      <td>9.85</td>\n",
       "      <td>6900</td>\n",
       "      <td>0</td>\n",
       "      <td>0</td>\n",
       "      <td>0</td>\n",
       "      <td>0</td>\n",
       "    </tr>\n",
       "    <tr>\n",
       "      <th>3</th>\n",
       "      <td>wagon r</td>\n",
       "      <td>maruti suzuki</td>\n",
       "      <td>2011</td>\n",
       "      <td>2.85</td>\n",
       "      <td>4.15</td>\n",
       "      <td>5200</td>\n",
       "      <td>0</td>\n",
       "      <td>0</td>\n",
       "      <td>0</td>\n",
       "      <td>0</td>\n",
       "    </tr>\n",
       "    <tr>\n",
       "      <th>4</th>\n",
       "      <td>swift</td>\n",
       "      <td>maruti suzuki</td>\n",
       "      <td>2014</td>\n",
       "      <td>4.60</td>\n",
       "      <td>6.87</td>\n",
       "      <td>42450</td>\n",
       "      <td>1</td>\n",
       "      <td>0</td>\n",
       "      <td>0</td>\n",
       "      <td>0</td>\n",
       "    </tr>\n",
       "  </tbody>\n",
       "</table>\n",
       "</div>"
      ],
      "text/plain": [
       "  Car_Name        company  Year  Selling_Price  Present_Price  Kms_Driven  \\\n",
       "0     ritz  maruti suzuki  2014           3.35           5.59       27000   \n",
       "1      sx4  maruti suzuki  2013           4.75           9.54       43000   \n",
       "2     ciaz  maruti suzuki  2017           7.25           9.85        6900   \n",
       "3  wagon r  maruti suzuki  2011           2.85           4.15        5200   \n",
       "4    swift  maruti suzuki  2014           4.60           6.87       42450   \n",
       "\n",
       "   Fuel_Type  Seller_Type  Transmission  Owner  \n",
       "0          0            0             0      0  \n",
       "1          1            0             0      0  \n",
       "2          0            0             0      0  \n",
       "3          0            0             0      0  \n",
       "4          1            0             0      0  "
      ]
     },
     "execution_count": 60,
     "metadata": {},
     "output_type": "execute_result"
    }
   ],
   "source": [
    "car.head()"
   ]
  },
  {
   "cell_type": "markdown",
   "id": "fb3d3b0c",
   "metadata": {
    "papermill": {
     "duration": 0.013709,
     "end_time": "2022-11-17T11:27:33.326874",
     "exception": false,
     "start_time": "2022-11-17T11:27:33.313165",
     "status": "completed"
    },
    "tags": []
   },
   "source": [
    "# Visualizing categorical column with bar plot"
   ]
  },
  {
   "cell_type": "code",
   "execution_count": 61,
   "id": "20d3d8d4",
   "metadata": {
    "execution": {
     "iopub.execute_input": "2022-11-17T11:27:33.355587Z",
     "iopub.status.busy": "2022-11-17T11:27:33.355134Z",
     "iopub.status.idle": "2022-11-17T11:27:36.527057Z",
     "shell.execute_reply": "2022-11-17T11:27:36.525711Z"
    },
    "papermill": {
     "duration": 3.189364,
     "end_time": "2022-11-17T11:27:36.529615",
     "exception": false,
     "start_time": "2022-11-17T11:27:33.340251",
     "status": "completed"
    },
    "scrolled": true,
    "tags": []
   },
   "outputs": [
    {
     "data": {
      "text/plain": [
       "<Axes: xlabel='Car_Name', ylabel='Selling_Price'>"
      ]
     },
     "execution_count": 61,
     "metadata": {},
     "output_type": "execute_result"
    },
    {
     "data": {
      "image/png": "[encoded data removed]",
      "text/plain": [
       "<Figure size 3000x1500 with 1 Axes>"
      ]
     },
     "metadata": {},
     "output_type": "display_data"
    }
   ],
   "source": [
    "plt.figure(figsize=(30,15))\n",
    "sns.barplot(x='Car_Name', y='Selling_Price', data=car)"
   ]
  },
  {
   "cell_type": "code",
   "execution_count": 62,
   "id": "a4f8bbe9",
   "metadata": {
    "execution": {
     "iopub.execute_input": "2022-11-17T11:27:36.560136Z",
     "iopub.status.busy": "2022-11-17T11:27:36.559759Z",
     "iopub.status.idle": "2022-11-17T11:27:36.767543Z",
     "shell.execute_reply": "2022-11-17T11:27:36.766300Z"
    },
    "papermill": {
     "duration": 0.226008,
     "end_time": "2022-11-17T11:27:36.770117",
     "exception": false,
     "start_time": "2022-11-17T11:27:36.544109",
     "status": "completed"
    },
    "tags": []
   },
   "outputs": [
    {
     "data": {
      "text/plain": [
       "<Axes: xlabel='Fuel_Type', ylabel='Selling_Price'>"
      ]
     },
     "execution_count": 62,
     "metadata": {},
     "output_type": "execute_result"
    },
    {
     "data": {
      "image/png": "[encoded data removed]",
      "text/plain": [
       "<Figure size 500x500 with 1 Axes>"
      ]
     },
     "metadata": {},
     "output_type": "display_data"
    }
   ],
   "source": [
    "plt.figure(figsize=(5,5))\n",
    "sns.barplot(x='Fuel_Type', y='Selling_Price', data=car)"
   ]
  },
  {
   "cell_type": "code",
   "execution_count": 63,
   "id": "68b4fd98",
   "metadata": {
    "execution": {
     "iopub.execute_input": "2022-11-17T11:27:36.801571Z",
     "iopub.status.busy": "2022-11-17T11:27:36.801142Z",
     "iopub.status.idle": "2022-11-17T11:27:36.980024Z",
     "shell.execute_reply": "2022-11-17T11:27:36.979095Z"
    },
    "papermill": {
     "duration": 0.197447,
     "end_time": "2022-11-17T11:27:36.982399",
     "exception": false,
     "start_time": "2022-11-17T11:27:36.784952",
     "status": "completed"
    },
    "tags": []
   },
   "outputs": [
    {
     "data": {
      "text/plain": [
       "<Axes: xlabel='Seller_Type', ylabel='Selling_Price'>"
      ]
     },
     "execution_count": 63,
     "metadata": {},
     "output_type": "execute_result"
    },
    {
     "data": {
      "image/png": "[encoded data removed]",
      "text/plain": [
       "<Figure size 640x480 with 1 Axes>"
      ]
     },
     "metadata": {},
     "output_type": "display_data"
    }
   ],
   "source": [
    "sns.barplot(x='Seller_Type', y='Selling_Price', data=car)"
   ]
  },
  {
   "cell_type": "code",
   "execution_count": 64,
   "id": "276cc5e8",
   "metadata": {
    "execution": {
     "iopub.execute_input": "2022-11-17T11:27:37.015277Z",
     "iopub.status.busy": "2022-11-17T11:27:37.014071Z",
     "iopub.status.idle": "2022-11-17T11:27:37.185829Z",
     "shell.execute_reply": "2022-11-17T11:27:37.184703Z"
    },
    "papermill": {
     "duration": 0.19103,
     "end_time": "2022-11-17T11:27:37.188657",
     "exception": false,
     "start_time": "2022-11-17T11:27:36.997627",
     "status": "completed"
    },
    "tags": []
   },
   "outputs": [
    {
     "data": {
      "text/plain": [
       "<Axes: xlabel='Transmission', ylabel='Selling_Price'>"
      ]
     },
     "execution_count": 64,
     "metadata": {},
     "output_type": "execute_result"
    },
    {
     "data": {
      "image/png": "[encoded data removed]",
      "text/plain": [
       "<Figure size 640x480 with 1 Axes>"
      ]
     },
     "metadata": {},
     "output_type": "display_data"
    }
   ],
   "source": [
    "sns.barplot(x='Transmission', y='Selling_Price', data=car)"
   ]
  },
  {
   "cell_type": "markdown",
   "id": "9b62a7f5",
   "metadata": {
    "papermill": {
     "duration": 0.015282,
     "end_time": "2022-11-17T11:27:37.219648",
     "exception": false,
     "start_time": "2022-11-17T11:27:37.204366",
     "status": "completed"
    },
    "tags": []
   },
   "source": [
    "# Visualizing Continuous column with scatter plot"
   ]
  },
  {
   "cell_type": "code",
   "execution_count": 65,
   "id": "f6ef232b",
   "metadata": {
    "execution": {
     "iopub.execute_input": "2022-11-17T11:27:37.252125Z",
     "iopub.status.busy": "2022-11-17T11:27:37.251374Z",
     "iopub.status.idle": "2022-11-17T11:27:37.522676Z",
     "shell.execute_reply": "2022-11-17T11:27:37.521743Z"
    },
    "papermill": {
     "duration": 0.290092,
     "end_time": "2022-11-17T11:27:37.524950",
     "exception": false,
     "start_time": "2022-11-17T11:27:37.234858",
     "status": "completed"
    },
    "tags": []
   },
   "outputs": [
    {
     "name": "stderr",
     "output_type": "stream",
     "text": [
      "C:\\Users\\alikh\\AppData\\Local\\Packages\\PythonSoftwareFoundation.Python.3.11_qbz5n2kfra8p0\\LocalCache\\local-packages\\Python311\\site-packages\\seaborn\\axisgrid.py:118: UserWarning: The figure layout has changed to tight\n",
      "  self._figure.tight_layout(*args, **kwargs)\n"
     ]
    },
    {
     "data": {
      "text/plain": [
       "<seaborn.axisgrid.PairGrid at 0x2af01be7490>"
      ]
     },
     "execution_count": 65,
     "metadata": {},
     "output_type": "execute_result"
    },
    {
     "data": {
      "image/png": "[encoded data removed]",
      "text/plain": [
       "<Figure size 800x800 with 1 Axes>"
      ]
     },
     "metadata": {},
     "output_type": "display_data"
    }
   ],
   "source": [
    "# Let's see how Sales are related with other variables using scatter plot.\n",
    "\n",
    "sns.pairplot(car, x_vars=['Year'], y_vars='Selling_Price',height=8, aspect=1, kind='scatter')"
   ]
  },
  {
   "cell_type": "code",
   "execution_count": 66,
   "id": "90c480d6",
   "metadata": {
    "execution": {
     "iopub.execute_input": "2022-11-17T11:27:37.558492Z",
     "iopub.status.busy": "2022-11-17T11:27:37.557855Z",
     "iopub.status.idle": "2022-11-17T11:27:37.829215Z",
     "shell.execute_reply": "2022-11-17T11:27:37.828455Z"
    },
    "papermill": {
     "duration": 0.290596,
     "end_time": "2022-11-17T11:27:37.831274",
     "exception": false,
     "start_time": "2022-11-17T11:27:37.540678",
     "status": "completed"
    },
    "tags": []
   },
   "outputs": [
    {
     "name": "stderr",
     "output_type": "stream",
     "text": [
      "C:\\Users\\alikh\\AppData\\Local\\Packages\\PythonSoftwareFoundation.Python.3.11_qbz5n2kfra8p0\\LocalCache\\local-packages\\Python311\\site-packages\\seaborn\\axisgrid.py:118: UserWarning: The figure layout has changed to tight\n",
      "  self._figure.tight_layout(*args, **kwargs)\n"
     ]
    },
    {
     "data": {
      "text/plain": [
       "<seaborn.axisgrid.PairGrid at 0x2af0523fdd0>"
      ]
     },
     "execution_count": 66,
     "metadata": {},
     "output_type": "execute_result"
    },
    {
     "data": {
      "image/png": "[encoded data removed]",
      "text/plain": [
       "<Figure size 800x800 with 1 Axes>"
      ]
     },
     "metadata": {},
     "output_type": "display_data"
    }
   ],
   "source": [
    "sns.pairplot(car, x_vars=['Present_Price'], y_vars='Selling_Price',height=8, aspect=1, kind='scatter')"
   ]
  },
  {
   "cell_type": "code",
   "execution_count": 67,
   "id": "1033e937",
   "metadata": {
    "execution": {
     "iopub.execute_input": "2022-11-17T11:27:37.866418Z",
     "iopub.status.busy": "2022-11-17T11:27:37.865759Z",
     "iopub.status.idle": "2022-11-17T11:27:38.162145Z",
     "shell.execute_reply": "2022-11-17T11:27:38.161065Z"
    },
    "papermill": {
     "duration": 0.316727,
     "end_time": "2022-11-17T11:27:38.164439",
     "exception": false,
     "start_time": "2022-11-17T11:27:37.847712",
     "status": "completed"
    },
    "tags": []
   },
   "outputs": [
    {
     "name": "stderr",
     "output_type": "stream",
     "text": [
      "C:\\Users\\alikh\\AppData\\Local\\Packages\\PythonSoftwareFoundation.Python.3.11_qbz5n2kfra8p0\\LocalCache\\local-packages\\Python311\\site-packages\\seaborn\\axisgrid.py:118: UserWarning: The figure layout has changed to tight\n",
      "  self._figure.tight_layout(*args, **kwargs)\n"
     ]
    },
    {
     "data": {
      "text/plain": [
       "<seaborn.axisgrid.PairGrid at 0x2af04018410>"
      ]
     },
     "execution_count": 67,
     "metadata": {},
     "output_type": "execute_result"
    },
    {
     "data": {
      "image/png": "[encoded data removed]",
      "text/plain": [
       "<Figure size 800x800 with 1 Axes>"
      ]
     },
     "metadata": {},
     "output_type": "display_data"
    }
   ],
   "source": [
    "sns.pairplot(car, x_vars=['Kms_Driven'], y_vars='Selling_Price',height=8, aspect=1, kind='scatter')"
   ]
  },
  {
   "cell_type": "code",
   "execution_count": 68,
   "id": "e72e42de",
   "metadata": {
    "execution": {
     "iopub.execute_input": "2022-11-17T11:27:38.199482Z",
     "iopub.status.busy": "2022-11-17T11:27:38.199033Z",
     "iopub.status.idle": "2022-11-17T11:27:38.542019Z",
     "shell.execute_reply": "2022-11-17T11:27:38.541045Z"
    },
    "papermill": {
     "duration": 0.363856,
     "end_time": "2022-11-17T11:27:38.545147",
     "exception": false,
     "start_time": "2022-11-17T11:27:38.181291",
     "status": "completed"
    },
    "tags": []
   },
   "outputs": [
    {
     "name": "stderr",
     "output_type": "stream",
     "text": [
      "C:\\Users\\alikh\\AppData\\Local\\Packages\\PythonSoftwareFoundation.Python.3.11_qbz5n2kfra8p0\\LocalCache\\local-packages\\Python311\\site-packages\\seaborn\\axisgrid.py:118: UserWarning: The figure layout has changed to tight\n",
      "  self._figure.tight_layout(*args, **kwargs)\n"
     ]
    },
    {
     "data": {
      "text/plain": [
       "<seaborn.axisgrid.PairGrid at 0x2af03ef5cd0>"
      ]
     },
     "execution_count": 68,
     "metadata": {},
     "output_type": "execute_result"
    },
    {
     "data": {
      "image/png": "[encoded data removed]",
      "text/plain": [
       "<Figure size 800x800 with 1 Axes>"
      ]
     },
     "metadata": {},
     "output_type": "display_data"
    }
   ],
   "source": [
    "sns.pairplot(car, x_vars=['Owner'], y_vars='Selling_Price',height=8, aspect=1, kind='scatter')"
   ]
  },
  {
   "cell_type": "code",
   "execution_count": 69,
   "id": "a8a23a03",
   "metadata": {
    "execution": {
     "iopub.execute_input": "2022-11-17T11:27:38.581924Z",
     "iopub.status.busy": "2022-11-17T11:27:38.580861Z",
     "iopub.status.idle": "2022-11-17T11:27:39.259652Z",
     "shell.execute_reply": "2022-11-17T11:27:39.258531Z"
    },
    "papermill": {
     "duration": 0.699252,
     "end_time": "2022-11-17T11:27:39.261789",
     "exception": false,
     "start_time": "2022-11-17T11:27:38.562537",
     "status": "completed"
    },
    "tags": []
   },
   "outputs": [],
   "source": [
    "# # Let's see the correlation between different variables.\n",
    "# plt.figure(figsize=(10,7))\n",
    "# sns.heatmap(car.corr(), annot = True)"
   ]
  },
  {
   "cell_type": "markdown",
   "id": "6b9beb54",
   "metadata": {
    "papermill": {
     "duration": 0.017943,
     "end_time": "2022-11-17T11:27:39.298243",
     "exception": false,
     "start_time": "2022-11-17T11:27:39.280300",
     "status": "completed"
    },
    "tags": []
   },
   "source": [
    "# Model Building\n",
    "\n",
    "Performing Simple Linear Regression"
   ]
  },
  {
   "cell_type": "code",
   "execution_count": 70,
   "id": "c3ee2b8e",
   "metadata": {
    "execution": {
     "iopub.execute_input": "2022-11-17T11:27:39.338053Z",
     "iopub.status.busy": "2022-11-17T11:27:39.337650Z",
     "iopub.status.idle": "2022-11-17T11:27:39.343856Z",
     "shell.execute_reply": "2022-11-17T11:27:39.342785Z"
    },
    "papermill": {
     "duration": 0.028954,
     "end_time": "2022-11-17T11:27:39.345962",
     "exception": false,
     "start_time": "2022-11-17T11:27:39.317008",
     "status": "completed"
    },
    "tags": []
   },
   "outputs": [],
   "source": [
    "# Splitting data into Training and testing data\n",
    "\n",
    "X = car.drop(['Car_Name','Selling_Price'], axis = 1)\n",
    "Y = car['Selling_Price']"
   ]
  },
  {
   "cell_type": "code",
   "execution_count": 71,
   "id": "9da183a2",
   "metadata": {
    "execution": {
     "iopub.execute_input": "2022-11-17T11:27:39.384593Z",
     "iopub.status.busy": "2022-11-17T11:27:39.383899Z",
     "iopub.status.idle": "2022-11-17T11:27:39.395801Z",
     "shell.execute_reply": "2022-11-17T11:27:39.394237Z"
    },
    "papermill": {
     "duration": 0.03374,
     "end_time": "2022-11-17T11:27:39.398085",
     "exception": false,
     "start_time": "2022-11-17T11:27:39.364345",
     "status": "completed"
    },
    "tags": []
   },
   "outputs": [
    {
     "name": "stdout",
     "output_type": "stream",
     "text": [
      "           company  Year  Present_Price  Kms_Driven  Fuel_Type  Seller_Type  \\\n",
      "0    maruti suzuki  2014           5.59       27000          0            0   \n",
      "1    maruti suzuki  2013           9.54       43000          1            0   \n",
      "2    maruti suzuki  2017           9.85        6900          0            0   \n",
      "3    maruti suzuki  2011           4.15        5200          0            0   \n",
      "4    maruti suzuki  2014           6.87       42450          1            0   \n",
      "..             ...   ...            ...         ...        ...          ...   \n",
      "296          honda  2016          11.60       33988          1            0   \n",
      "297          honda  2015           5.90       60000          0            0   \n",
      "298          honda  2009          11.00       87934          0            0   \n",
      "299          honda  2017          12.50        9000          1            0   \n",
      "300          honda  2016           5.90        5464          0            0   \n",
      "\n",
      "     Transmission  Owner  \n",
      "0               0      0  \n",
      "1               0      0  \n",
      "2               0      0  \n",
      "3               0      0  \n",
      "4               0      0  \n",
      "..            ...    ...  \n",
      "296             0      0  \n",
      "297             0      0  \n",
      "298             0      0  \n",
      "299             0      0  \n",
      "300             0      0  \n",
      "\n",
      "[299 rows x 8 columns]\n"
     ]
    }
   ],
   "source": [
    "print(X)"
   ]
  },
  {
   "cell_type": "code",
   "execution_count": 72,
   "id": "c62655e6",
   "metadata": {
    "execution": {
     "iopub.execute_input": "2022-11-17T11:27:39.436982Z",
     "iopub.status.busy": "2022-11-17T11:27:39.436592Z",
     "iopub.status.idle": "2022-11-17T11:27:39.443539Z",
     "shell.execute_reply": "2022-11-17T11:27:39.442318Z"
    },
    "papermill": {
     "duration": 0.029261,
     "end_time": "2022-11-17T11:27:39.446217",
     "exception": false,
     "start_time": "2022-11-17T11:27:39.416956",
     "status": "completed"
    },
    "tags": []
   },
   "outputs": [
    {
     "name": "stdout",
     "output_type": "stream",
     "text": [
      "0       3.35\n",
      "1       4.75\n",
      "2       7.25\n",
      "3       2.85\n",
      "4       4.60\n",
      "       ...  \n",
      "296     9.50\n",
      "297     4.00\n",
      "298     3.35\n",
      "299    11.50\n",
      "300     5.30\n",
      "Name: Selling_Price, Length: 299, dtype: float64\n"
     ]
    }
   ],
   "source": [
    "print(Y)"
   ]
  },
  {
   "cell_type": "code",
   "execution_count": 73,
   "id": "553aac1d",
   "metadata": {
    "execution": {
     "iopub.execute_input": "2022-11-17T11:27:39.484999Z",
     "iopub.status.busy": "2022-11-17T11:27:39.484584Z",
     "iopub.status.idle": "2022-11-17T11:27:39.491441Z",
     "shell.execute_reply": "2022-11-17T11:27:39.490430Z"
    },
    "papermill": {
     "duration": 0.029259,
     "end_time": "2022-11-17T11:27:39.493742",
     "exception": false,
     "start_time": "2022-11-17T11:27:39.464483",
     "status": "completed"
    },
    "tags": []
   },
   "outputs": [],
   "source": [
    "# Splitting the data and Target\n",
    "\n",
    "X_train,X_test,Y_train,Y_test = train_test_split(X,Y, test_size = 0.2, random_state=2)"
   ]
  },
  {
   "cell_type": "code",
   "execution_count": 74,
   "id": "844abbdb",
   "metadata": {
    "execution": {
     "iopub.execute_input": "2022-11-17T11:27:39.532293Z",
     "iopub.status.busy": "2022-11-17T11:27:39.531893Z",
     "iopub.status.idle": "2022-11-17T11:27:39.549360Z",
     "shell.execute_reply": "2022-11-17T11:27:39.547978Z"
    },
    "papermill": {
     "duration": 0.039647,
     "end_time": "2022-11-17T11:27:39.551663",
     "exception": false,
     "start_time": "2022-11-17T11:27:39.512016",
     "status": "completed"
    },
    "tags": []
   },
   "outputs": [
    {
     "data": {
      "text/html": [
       "<div>\n",
       "<style scoped>\n",
       "    .dataframe tbody tr th:only-of-type {\n",
       "        vertical-align: middle;\n",
       "    }\n",
       "\n",
       "    .dataframe tbody tr th {\n",
       "        vertical-align: top;\n",
       "    }\n",
       "\n",
       "    .dataframe thead th {\n",
       "        text-align: right;\n",
       "    }\n",
       "</style>\n",
       "<table border=\"1\" class=\"dataframe\">\n",
       "  <thead>\n",
       "    <tr style=\"text-align: right;\">\n",
       "      <th></th>\n",
       "      <th>company</th>\n",
       "      <th>Year</th>\n",
       "      <th>Present_Price</th>\n",
       "      <th>Kms_Driven</th>\n",
       "      <th>Fuel_Type</th>\n",
       "      <th>Seller_Type</th>\n",
       "      <th>Transmission</th>\n",
       "      <th>Owner</th>\n",
       "    </tr>\n",
       "  </thead>\n",
       "  <tbody>\n",
       "    <tr>\n",
       "      <th>54</th>\n",
       "      <td>other</td>\n",
       "      <td>2005</td>\n",
       "      <td>10.21</td>\n",
       "      <td>90000</td>\n",
       "      <td>0</td>\n",
       "      <td>1</td>\n",
       "      <td>0</td>\n",
       "      <td>0</td>\n",
       "    </tr>\n",
       "    <tr>\n",
       "      <th>174</th>\n",
       "      <td>honda</td>\n",
       "      <td>2015</td>\n",
       "      <td>0.72</td>\n",
       "      <td>38600</td>\n",
       "      <td>0</td>\n",
       "      <td>1</td>\n",
       "      <td>0</td>\n",
       "      <td>0</td>\n",
       "    </tr>\n",
       "    <tr>\n",
       "      <th>24</th>\n",
       "      <td>maruti suzuki</td>\n",
       "      <td>2013</td>\n",
       "      <td>4.41</td>\n",
       "      <td>56879</td>\n",
       "      <td>0</td>\n",
       "      <td>0</td>\n",
       "      <td>0</td>\n",
       "      <td>0</td>\n",
       "    </tr>\n",
       "    <tr>\n",
       "      <th>100</th>\n",
       "      <td>other</td>\n",
       "      <td>2016</td>\n",
       "      <td>1.90</td>\n",
       "      <td>3000</td>\n",
       "      <td>0</td>\n",
       "      <td>1</td>\n",
       "      <td>0</td>\n",
       "      <td>0</td>\n",
       "    </tr>\n",
       "    <tr>\n",
       "      <th>246</th>\n",
       "      <td>hyndai</td>\n",
       "      <td>2012</td>\n",
       "      <td>6.79</td>\n",
       "      <td>35000</td>\n",
       "      <td>0</td>\n",
       "      <td>0</td>\n",
       "      <td>0</td>\n",
       "      <td>0</td>\n",
       "    </tr>\n",
       "    <tr>\n",
       "      <th>...</th>\n",
       "      <td>...</td>\n",
       "      <td>...</td>\n",
       "      <td>...</td>\n",
       "      <td>...</td>\n",
       "      <td>...</td>\n",
       "      <td>...</td>\n",
       "      <td>...</td>\n",
       "      <td>...</td>\n",
       "    </tr>\n",
       "    <tr>\n",
       "      <th>76</th>\n",
       "      <td>toyota</td>\n",
       "      <td>2013</td>\n",
       "      <td>14.68</td>\n",
       "      <td>72000</td>\n",
       "      <td>0</td>\n",
       "      <td>0</td>\n",
       "      <td>0</td>\n",
       "      <td>0</td>\n",
       "    </tr>\n",
       "    <tr>\n",
       "      <th>23</th>\n",
       "      <td>maruti suzuki</td>\n",
       "      <td>2014</td>\n",
       "      <td>3.46</td>\n",
       "      <td>45280</td>\n",
       "      <td>0</td>\n",
       "      <td>0</td>\n",
       "      <td>0</td>\n",
       "      <td>0</td>\n",
       "    </tr>\n",
       "    <tr>\n",
       "      <th>73</th>\n",
       "      <td>toyota</td>\n",
       "      <td>2011</td>\n",
       "      <td>5.71</td>\n",
       "      <td>43000</td>\n",
       "      <td>0</td>\n",
       "      <td>0</td>\n",
       "      <td>0</td>\n",
       "      <td>0</td>\n",
       "    </tr>\n",
       "    <tr>\n",
       "      <th>15</th>\n",
       "      <td>maruti suzuki</td>\n",
       "      <td>2016</td>\n",
       "      <td>10.79</td>\n",
       "      <td>43000</td>\n",
       "      <td>1</td>\n",
       "      <td>0</td>\n",
       "      <td>0</td>\n",
       "      <td>0</td>\n",
       "    </tr>\n",
       "    <tr>\n",
       "      <th>170</th>\n",
       "      <td>yamaha</td>\n",
       "      <td>2012</td>\n",
       "      <td>0.83</td>\n",
       "      <td>5500</td>\n",
       "      <td>0</td>\n",
       "      <td>1</td>\n",
       "      <td>0</td>\n",
       "      <td>0</td>\n",
       "    </tr>\n",
       "  </tbody>\n",
       "</table>\n",
       "<p>239 rows × 8 columns</p>\n",
       "</div>"
      ],
      "text/plain": [
       "           company  Year  Present_Price  Kms_Driven  Fuel_Type  Seller_Type  \\\n",
       "54           other  2005          10.21       90000          0            1   \n",
       "174          honda  2015           0.72       38600          0            1   \n",
       "24   maruti suzuki  2013           4.41       56879          0            0   \n",
       "100          other  2016           1.90        3000          0            1   \n",
       "246         hyndai  2012           6.79       35000          0            0   \n",
       "..             ...   ...            ...         ...        ...          ...   \n",
       "76          toyota  2013          14.68       72000          0            0   \n",
       "23   maruti suzuki  2014           3.46       45280          0            0   \n",
       "73          toyota  2011           5.71       43000          0            0   \n",
       "15   maruti suzuki  2016          10.79       43000          1            0   \n",
       "170         yamaha  2012           0.83        5500          0            1   \n",
       "\n",
       "     Transmission  Owner  \n",
       "54              0      0  \n",
       "174             0      0  \n",
       "24              0      0  \n",
       "100             0      0  \n",
       "246             0      0  \n",
       "..            ...    ...  \n",
       "76              0      0  \n",
       "23              0      0  \n",
       "73              0      0  \n",
       "15              0      0  \n",
       "170             0      0  \n",
       "\n",
       "[239 rows x 8 columns]"
      ]
     },
     "execution_count": 74,
     "metadata": {},
     "output_type": "execute_result"
    }
   ],
   "source": [
    "X_train"
   ]
  },
  {
   "cell_type": "markdown",
   "id": "4eefdb1b",
   "metadata": {
    "papermill": {
     "duration": 0.018479,
     "end_time": "2022-11-17T11:27:39.589163",
     "exception": false,
     "start_time": "2022-11-17T11:27:39.570684",
     "status": "completed"
    },
    "tags": []
   },
   "source": [
    "Model Training"
   ]
  },
  {
   "cell_type": "code",
   "execution_count": 75,
   "id": "f37cf5c5",
   "metadata": {
    "execution": {
     "iopub.execute_input": "2022-11-17T11:27:39.629039Z",
     "iopub.status.busy": "2022-11-17T11:27:39.628670Z",
     "iopub.status.idle": "2022-11-17T11:27:39.634622Z",
     "shell.execute_reply": "2022-11-17T11:27:39.633708Z"
    },
    "papermill": {
     "duration": 0.02846,
     "end_time": "2022-11-17T11:27:39.636823",
     "exception": false,
     "start_time": "2022-11-17T11:27:39.608363",
     "status": "completed"
    },
    "tags": []
   },
   "outputs": [],
   "source": [
    "X_train.drop(columns=['company'], inplace=True)"
   ]
  },
  {
   "cell_type": "code",
   "execution_count": 76,
   "id": "2fe6400e",
   "metadata": {
    "execution": {
     "iopub.execute_input": "2022-11-17T11:27:39.675862Z",
     "iopub.status.busy": "2022-11-17T11:27:39.675442Z",
     "iopub.status.idle": "2022-11-17T11:27:39.680152Z",
     "shell.execute_reply": "2022-11-17T11:27:39.678983Z"
    },
    "papermill": {
     "duration": 0.026883,
     "end_time": "2022-11-17T11:27:39.682490",
     "exception": false,
     "start_time": "2022-11-17T11:27:39.655607",
     "status": "completed"
    },
    "tags": []
   },
   "outputs": [],
   "source": [
    "lin_reg = LinearRegression()"
   ]
  },
  {
   "cell_type": "code",
   "execution_count": 77,
   "id": "9c563ab4",
   "metadata": {
    "execution": {
     "iopub.execute_input": "2022-11-17T11:27:39.722363Z",
     "iopub.status.busy": "2022-11-17T11:27:39.721990Z",
     "iopub.status.idle": "2022-11-17T11:27:39.748447Z",
     "shell.execute_reply": "2022-11-17T11:27:39.747469Z"
    },
    "papermill": {
     "duration": 0.048856,
     "end_time": "2022-11-17T11:27:39.750534",
     "exception": false,
     "start_time": "2022-11-17T11:27:39.701678",
     "status": "completed"
    },
    "tags": []
   },
   "outputs": [
    {
     "data": {
      "text/html": [
       "<style>#sk-container-id-2 {color: black;}#sk-container-id-2 pre{padding: 0;}#sk-container-id-2 div.sk-toggleable {background-color: white;}#sk-container-id-2 label.sk-toggleable__label {cursor: pointer;display: block;width: 100%;margin-bottom: 0;padding: 0.3em;box-sizing: border-box;text-align: center;}#sk-container-id-2 label.sk-toggleable__label-arrow:before {content: \"▸\";float: left;margin-right: 0.25em;color: #696969;}#sk-container-id-2 label.sk-toggleable__label-arrow:hover:before {color: black;}#sk-container-id-2 div.sk-estimator:hover label.sk-toggleable__label-arrow:before {color: black;}#sk-container-id-2 div.sk-toggleable__content {max-height: 0;max-width: 0;overflow: hidden;text-align: left;background-color: #f0f8ff;}#sk-container-id-2 div.sk-toggleable__content pre {margin: 0.2em;color: black;border-radius: 0.25em;background-color: #f0f8ff;}#sk-container-id-2 input.sk-toggleable__control:checked~div.sk-toggleable__content {max-height: 200px;max-width: 100%;overflow: auto;}#sk-container-id-2 input.sk-toggleable__control:checked~label.sk-toggleable__label-arrow:before {content: \"▾\";}#sk-container-id-2 div.sk-estimator input.sk-toggleable__control:checked~label.sk-toggleable__label {background-color: #d4ebff;}#sk-container-id-2 div.sk-label input.sk-toggleable__control:checked~label.sk-toggleable__label {background-color: #d4ebff;}#sk-container-id-2 input.sk-hidden--visually {border: 0;clip: rect(1px 1px 1px 1px);clip: rect(1px, 1px, 1px, 1px);height: 1px;margin: -1px;overflow: hidden;padding: 0;position: absolute;width: 1px;}#sk-container-id-2 div.sk-estimator {font-family: monospace;background-color: #f0f8ff;border: 1px dotted black;border-radius: 0.25em;box-sizing: border-box;margin-bottom: 0.5em;}#sk-container-id-2 div.sk-estimator:hover {background-color: #d4ebff;}#sk-container-id-2 div.sk-parallel-item::after {content: \"\";width: 100%;border-bottom: 1px solid gray;flex-grow: 1;}#sk-container-id-2 div.sk-label:hover label.sk-toggleable__label {background-color: #d4ebff;}#sk-container-id-2 div.sk-serial::before {content: \"\";position: absolute;border-left: 1px solid gray;box-sizing: border-box;top: 0;bottom: 0;left: 50%;z-index: 0;}#sk-container-id-2 div.sk-serial {display: flex;flex-direction: column;align-items: center;background-color: white;padding-right: 0.2em;padding-left: 0.2em;position: relative;}#sk-container-id-2 div.sk-item {position: relative;z-index: 1;}#sk-container-id-2 div.sk-parallel {display: flex;align-items: stretch;justify-content: center;background-color: white;position: relative;}#sk-container-id-2 div.sk-item::before, #sk-container-id-2 div.sk-parallel-item::before {content: \"\";position: absolute;border-left: 1px solid gray;box-sizing: border-box;top: 0;bottom: 0;left: 50%;z-index: -1;}#sk-container-id-2 div.sk-parallel-item {display: flex;flex-direction: column;z-index: 1;position: relative;background-color: white;}#sk-container-id-2 div.sk-parallel-item:first-child::after {align-self: flex-end;width: 50%;}#sk-container-id-2 div.sk-parallel-item:last-child::after {align-self: flex-start;width: 50%;}#sk-container-id-2 div.sk-parallel-item:only-child::after {width: 0;}#sk-container-id-2 div.sk-dashed-wrapped {border: 1px dashed gray;margin: 0 0.4em 0.5em 0.4em;box-sizing: border-box;padding-bottom: 0.4em;background-color: white;}#sk-container-id-2 div.sk-label label {font-family: monospace;font-weight: bold;display: inline-block;line-height: 1.2em;}#sk-container-id-2 div.sk-label-container {text-align: center;}#sk-container-id-2 div.sk-container {/* jupyter's `normalize.less` sets `[hidden] { display: none; }` but bootstrap.min.css set `[hidden] { display: none !important; }` so we also need the `!important` here to be able to override the default hidden behavior on the sphinx rendered scikit-learn.org. See: https://github.com/scikit-learn/scikit-learn/issues/21755 */display: inline-block !important;position: relative;}#sk-container-id-2 div.sk-text-repr-fallback {display: none;}</style><div id=\"sk-container-id-2\" class=\"sk-top-container\"><div class=\"sk-text-repr-fallback\"><pre>LinearRegression()</pre><b>In a Jupyter environment, please rerun this cell to show the HTML representation or trust the notebook. <br />On GitHub, the HTML representation is unable to render, please try loading this page with nbviewer.org.</b></div><div class=\"sk-container\" hidden><div class=\"sk-item\"><div class=\"sk-estimator sk-toggleable\"><input class=\"sk-toggleable__control sk-hidden--visually\" id=\"sk-estimator-id-2\" type=\"checkbox\" checked><label for=\"sk-estimator-id-2\" class=\"sk-toggleable__label sk-toggleable__label-arrow\">LinearRegression</label><div class=\"sk-toggleable__content\"><pre>LinearRegression()</pre></div></div></div></div></div>"
      ],
      "text/plain": [
       "LinearRegression()"
      ]
     },
     "execution_count": 77,
     "metadata": {},
     "output_type": "execute_result"
    }
   ],
   "source": [
    "# fit the model to the training data\n",
    "lin_reg.fit(X_train, Y_train)"
   ]
  },
  {
   "cell_type": "code",
   "execution_count": 78,
   "id": "60893e15",
   "metadata": {
    "execution": {
     "iopub.execute_input": "2022-11-17T11:27:39.789941Z",
     "iopub.status.busy": "2022-11-17T11:27:39.789575Z",
     "iopub.status.idle": "2022-11-17T11:27:39.795230Z",
     "shell.execute_reply": "2022-11-17T11:27:39.793885Z"
    },
    "papermill": {
     "duration": 0.028246,
     "end_time": "2022-11-17T11:27:39.797654",
     "exception": false,
     "start_time": "2022-11-17T11:27:39.769408",
     "status": "completed"
    },
    "tags": []
   },
   "outputs": [
    {
     "name": "stdout",
     "output_type": "stream",
     "text": [
      "[ 4.05222380e-01  4.44878551e-01 -4.43607219e-06  1.39291917e+00\n",
      " -1.03181097e+00  1.34403412e+00  6.18113334e-01]\n"
     ]
    }
   ],
   "source": [
    "#Print out the coefficients of the model\n",
    "print(lin_reg.coef_)"
   ]
  },
  {
   "cell_type": "code",
   "execution_count": 79,
   "id": "0e9e51f9",
   "metadata": {
    "execution": {
     "iopub.execute_input": "2022-11-17T11:27:39.838098Z",
     "iopub.status.busy": "2022-11-17T11:27:39.837699Z",
     "iopub.status.idle": "2022-11-17T11:27:39.845168Z",
     "shell.execute_reply": "2022-11-17T11:27:39.843817Z"
    },
    "papermill": {
     "duration": 0.030993,
     "end_time": "2022-11-17T11:27:39.847634",
     "exception": false,
     "start_time": "2022-11-17T11:27:39.816641",
     "status": "completed"
    },
    "tags": []
   },
   "outputs": [],
   "source": [
    "#Predicton of training data\n",
    "pred_train = lin_reg.predict(X_train)"
   ]
  },
  {
   "cell_type": "markdown",
   "id": "7b784d49",
   "metadata": {
    "papermill": {
     "duration": 0.018398,
     "end_time": "2022-11-17T11:27:39.885250",
     "exception": false,
     "start_time": "2022-11-17T11:27:39.866852",
     "status": "completed"
    },
    "tags": []
   },
   "source": [
    "# Evaluating the Model with training data\n",
    "\n",
    "Let's evaluate our model performance by calculating the residual sum of squares and the explained variance score (R^2).\n",
    "\n",
    "Calculate the Mean Absolute Error, Mean Squared Error, and the Root Mean Squared Error. Refer to the lecture or to Wikipedia for the formulas"
   ]
  },
  {
   "cell_type": "code",
   "execution_count": 80,
   "id": "3b3747a4",
   "metadata": {
    "execution": {
     "iopub.execute_input": "2022-11-17T11:27:39.925098Z",
     "iopub.status.busy": "2022-11-17T11:27:39.924153Z",
     "iopub.status.idle": "2022-11-17T11:27:39.930956Z",
     "shell.execute_reply": "2022-11-17T11:27:39.929698Z"
    },
    "papermill": {
     "duration": 0.029205,
     "end_time": "2022-11-17T11:27:39.933271",
     "exception": false,
     "start_time": "2022-11-17T11:27:39.904066",
     "status": "completed"
    },
    "tags": []
   },
   "outputs": [
    {
     "name": "stdout",
     "output_type": "stream",
     "text": [
      "R squared Error : 0.8830066323340686\n"
     ]
    }
   ],
   "source": [
    "# R^2 Error\n",
    "error_score = metrics.r2_score(Y_train, pred_train)\n",
    "print(\"R squared Error :\", error_score)"
   ]
  },
  {
   "cell_type": "code",
   "execution_count": 81,
   "id": "1a5c1e78",
   "metadata": {
    "execution": {
     "iopub.execute_input": "2022-11-17T11:27:39.973421Z",
     "iopub.status.busy": "2022-11-17T11:27:39.973056Z",
     "iopub.status.idle": "2022-11-17T11:27:39.998455Z",
     "shell.execute_reply": "2022-11-17T11:27:39.996892Z"
    },
    "papermill": {
     "duration": 0.048886,
     "end_time": "2022-11-17T11:27:40.001277",
     "exception": false,
     "start_time": "2022-11-17T11:27:39.952391",
     "status": "completed"
    },
    "tags": []
   },
   "outputs": [
    {
     "name": "stdout",
     "output_type": "stream",
     "text": [
      "                            OLS Regression Results                            \n",
      "==============================================================================\n",
      "Dep. Variable:          Selling_Price   R-squared:                       0.876\n",
      "Model:                            OLS   Adj. R-squared:                  0.873\n",
      "Method:                 Least Squares   F-statistic:                     293.7\n",
      "Date:                Tue, 12 Sep 2023   Prob (F-statistic):          6.93e-128\n",
      "Time:                        00:43:16   Log-Likelihood:                -591.94\n",
      "No. Observations:                 299   AIC:                             1200.\n",
      "Df Residuals:                     291   BIC:                             1229.\n",
      "Df Model:                           7                                         \n",
      "Covariance Type:            nonrobust                                         \n",
      "=================================================================================\n",
      "                    coef    std err          t      P>|t|      [0.025      0.975]\n",
      "---------------------------------------------------------------------------------\n",
      "const          -811.5837     86.821     -9.348      0.000    -982.461    -640.707\n",
      "Year              0.4038      0.043      9.371      0.000       0.319       0.489\n",
      "Present_Price     0.4420      0.016     27.800      0.000       0.411       0.473\n",
      "Kms_Driven     -6.07e-06   3.24e-06     -1.871      0.062   -1.25e-05    3.16e-07\n",
      "Fuel_Type         1.4567      0.279      5.226      0.000       0.908       2.005\n",
      "Seller_Type      -1.1326      0.258     -4.386      0.000      -1.641      -0.624\n",
      "Transmission      1.3349      0.332      4.025      0.000       0.682       1.988\n",
      "Owner            -0.6639      0.425     -1.561      0.120      -1.501       0.173\n",
      "==============================================================================\n",
      "Omnibus:                       99.141   Durbin-Watson:                   1.681\n",
      "Prob(Omnibus):                  0.000   Jarque-Bera (JB):              803.812\n",
      "Skew:                           1.106   Prob(JB):                    2.85e-175\n",
      "Kurtosis:                      10.722   Cond. No.                     4.54e+07\n",
      "==============================================================================\n",
      "\n",
      "Notes:\n",
      "[1] Standard Errors assume that the covariance matrix of the errors is correctly specified.\n",
      "[2] The condition number is large, 4.54e+07. This might indicate that there are\n",
      "strong multicollinearity or other numerical problems.\n"
     ]
    }
   ],
   "source": [
    "import statsmodels.api as sm\n",
    "#Unlike SKLearn, statsmodels don't automatically fit a constant, \n",
    "#so you need to use the method sm.add_constant(X) in order to add a constant.\n",
    "X.drop(columns=['company'],inplace=True)\n",
    "X = sm.add_constant(X)\n",
    "# create a fitted model in one line\n",
    "lm_8 = sm.OLS(Y,X).fit()\n",
    "print(lm_8.summary())"
   ]
  },
  {
   "cell_type": "code",
   "execution_count": 82,
   "id": "d8c77c9e",
   "metadata": {
    "execution": {
     "iopub.execute_input": "2022-11-17T11:27:40.043031Z",
     "iopub.status.busy": "2022-11-17T11:27:40.042655Z",
     "iopub.status.idle": "2022-11-17T11:27:40.050293Z",
     "shell.execute_reply": "2022-11-17T11:27:40.049541Z"
    },
    "papermill": {
     "duration": 0.031341,
     "end_time": "2022-11-17T11:27:40.052988",
     "exception": false,
     "start_time": "2022-11-17T11:27:40.021647",
     "status": "completed"
    },
    "tags": []
   },
   "outputs": [
    {
     "name": "stdout",
     "output_type": "stream",
     "text": [
      "MAE: 1.1674333150582783\n",
      "MSE: 3.1127891271139387\n",
      "RMSE: 1.764309816079347\n"
     ]
    }
   ],
   "source": [
    "import sklearn.metrics as metrics\n",
    "print('MAE: {}'.format(metrics.mean_absolute_error(Y_train, pred_train)))\n",
    "print('MSE: {}'.format(metrics.mean_squared_error(Y_train, pred_train)))\n",
    "print('RMSE: {}'.format(np.sqrt(metrics.mean_squared_error(Y_train, pred_train))))"
   ]
  },
  {
   "cell_type": "markdown",
   "id": "0cb7c3c2",
   "metadata": {
    "papermill": {
     "duration": 0.01894,
     "end_time": "2022-11-17T11:27:40.092200",
     "exception": false,
     "start_time": "2022-11-17T11:27:40.073260",
     "status": "completed"
    },
    "tags": []
   },
   "source": [
    "# Regression plot of the real train values versus        the predicted values."
   ]
  },
  {
   "cell_type": "code",
   "execution_count": 83,
   "id": "bf099170",
   "metadata": {
    "execution": {
     "iopub.execute_input": "2022-11-17T11:27:40.132280Z",
     "iopub.status.busy": "2022-11-17T11:27:40.131883Z",
     "iopub.status.idle": "2022-11-17T11:27:40.468158Z",
     "shell.execute_reply": "2022-11-17T11:27:40.466113Z"
    },
    "papermill": {
     "duration": 0.362036,
     "end_time": "2022-11-17T11:27:40.473341",
     "exception": false,
     "start_time": "2022-11-17T11:27:40.111305",
     "status": "completed"
    },
    "tags": []
   },
   "outputs": [
    {
     "data": {
      "text/plain": [
       "Text(0, 0.5, 'actual price')"
      ]
     },
     "execution_count": 83,
     "metadata": {},
     "output_type": "execute_result"
    },
    {
     "data": {
      "image/png": "[encoded data removed]",
      "text/plain": [
       "<Figure size 640x480 with 1 Axes>"
      ]
     },
     "metadata": {},
     "output_type": "display_data"
    }
   ],
   "source": [
    "sns.regplot(x=pred_train,y=Y_train)\n",
    "plt.xlabel(\"predicted price\")\n",
    "plt.ylabel(\"actual price\")"
   ]
  },
  {
   "cell_type": "markdown",
   "id": "fd18e860",
   "metadata": {
    "papermill": {
     "duration": 0.020066,
     "end_time": "2022-11-17T11:27:40.515355",
     "exception": false,
     "start_time": "2022-11-17T11:27:40.495289",
     "status": "completed"
    },
    "tags": []
   },
   "source": [
    "# Evaluating the Model with Test data"
   ]
  },
  {
   "cell_type": "code",
   "execution_count": 84,
   "id": "5b5f11a9",
   "metadata": {
    "execution": {
     "iopub.execute_input": "2022-11-17T11:27:40.557703Z",
     "iopub.status.busy": "2022-11-17T11:27:40.556973Z",
     "iopub.status.idle": "2022-11-17T11:27:40.564965Z",
     "shell.execute_reply": "2022-11-17T11:27:40.564074Z"
    },
    "papermill": {
     "duration": 0.031311,
     "end_time": "2022-11-17T11:27:40.567150",
     "exception": false,
     "start_time": "2022-11-17T11:27:40.535839",
     "status": "completed"
    },
    "tags": []
   },
   "outputs": [],
   "source": [
    "#Predicton of training data\n",
    "X_test.drop(columns=['company'],inplace=True)\n",
    "pred_test = lin_reg.predict(X_test)"
   ]
  },
  {
   "cell_type": "code",
   "execution_count": 85,
   "id": "1de1cc27",
   "metadata": {
    "execution": {
     "iopub.execute_input": "2022-11-17T11:27:40.607854Z",
     "iopub.status.busy": "2022-11-17T11:27:40.607441Z",
     "iopub.status.idle": "2022-11-17T11:27:40.614358Z",
     "shell.execute_reply": "2022-11-17T11:27:40.612975Z"
    },
    "papermill": {
     "duration": 0.030143,
     "end_time": "2022-11-17T11:27:40.616596",
     "exception": false,
     "start_time": "2022-11-17T11:27:40.586453",
     "status": "completed"
    },
    "tags": []
   },
   "outputs": [
    {
     "name": "stdout",
     "output_type": "stream",
     "text": [
      "R squared Error : 0.7895030781337816\n"
     ]
    }
   ],
   "source": [
    "# R^2 Error\n",
    "error_score = metrics.r2_score(Y_test, pred_test)\n",
    "print(\"R squared Error :\", error_score)"
   ]
  },
  {
   "cell_type": "code",
   "execution_count": 86,
   "id": "d51e4bd5",
   "metadata": {
    "execution": {
     "iopub.execute_input": "2022-11-17T11:27:40.657177Z",
     "iopub.status.busy": "2022-11-17T11:27:40.656783Z",
     "iopub.status.idle": "2022-11-17T11:27:40.665253Z",
     "shell.execute_reply": "2022-11-17T11:27:40.664036Z"
    },
    "papermill": {
     "duration": 0.031716,
     "end_time": "2022-11-17T11:27:40.667616",
     "exception": false,
     "start_time": "2022-11-17T11:27:40.635900",
     "status": "completed"
    },
    "tags": []
   },
   "outputs": [
    {
     "name": "stdout",
     "output_type": "stream",
     "text": [
      "MAE: 1.1951253620342661\n",
      "MSE: 3.5027447633955306\n",
      "RMSE: 1.8715621184976818\n"
     ]
    }
   ],
   "source": [
    "import sklearn.metrics as metrics\n",
    "print('MAE: {}'.format(metrics.mean_absolute_error(Y_test, pred_test)))\n",
    "print('MSE: {}'.format(metrics.mean_squared_error(Y_test, pred_test)))\n",
    "print('RMSE: {}'.format(np.sqrt(metrics.mean_squared_error(Y_test, pred_test))))"
   ]
  },
  {
   "cell_type": "markdown",
   "id": "e115eee4",
   "metadata": {
    "papermill": {
     "duration": 0.023338,
     "end_time": "2022-11-17T11:27:40.711709",
     "exception": false,
     "start_time": "2022-11-17T11:27:40.688371",
     "status": "completed"
    },
    "tags": []
   },
   "source": [
    "# Regression plot of the real Test values versus the predicted values."
   ]
  },
  {
   "cell_type": "code",
   "execution_count": 87,
   "id": "b8823206",
   "metadata": {
    "execution": {
     "iopub.execute_input": "2022-11-17T11:27:40.755275Z",
     "iopub.status.busy": "2022-11-17T11:27:40.753034Z",
     "iopub.status.idle": "2022-11-17T11:27:41.076401Z",
     "shell.execute_reply": "2022-11-17T11:27:41.074958Z"
    },
    "papermill": {
     "duration": 0.347365,
     "end_time": "2022-11-17T11:27:41.078943",
     "exception": false,
     "start_time": "2022-11-17T11:27:40.731578",
     "status": "completed"
    },
    "tags": []
   },
   "outputs": [
    {
     "data": {
      "text/plain": [
       "Text(0, 0.5, 'actual price')"
      ]
     },
     "execution_count": 87,
     "metadata": {},
     "output_type": "execute_result"
    },
    {
     "data": {
      "image/png": "[encoded data removed]",
      "text/plain": [
       "<Figure size 640x480 with 1 Axes>"
      ]
     },
     "metadata": {},
     "output_type": "display_data"
    }
   ],
   "source": [
    "sns.regplot(x=pred_test,y=Y_test)\n",
    "plt.xlabel(\"predicted price\")\n",
    "plt.ylabel(\"actual price\")"
   ]
  },
  {
   "cell_type": "markdown",
   "id": "c4e9a3fe",
   "metadata": {
    "papermill": {
     "duration": 0.019895,
     "end_time": "2022-11-17T11:27:41.119826",
     "exception": false,
     "start_time": "2022-11-17T11:27:41.099931",
     "status": "completed"
    },
    "tags": []
   },
   "source": [
    "#  Residuals\n",
    "\n",
    " You should have gotten a very good model with a good fit. Let's quickly explore the residuals to make sure everything was okay with our data.\n",
    "\n",
    "Plot a histogram of the residuals and make sure it looks normally distributed. Use either seaborn distplot, or just plt.hist().\n",
    "\n",
    "sns.distplot((y_test-pred)) sns.distplot((y_test-pred))"
   ]
  },
  {
   "cell_type": "code",
   "execution_count": 88,
   "id": "6d15c329",
   "metadata": {
    "execution": {
     "iopub.execute_input": "2022-11-17T11:27:41.162757Z",
     "iopub.status.busy": "2022-11-17T11:27:41.161679Z",
     "iopub.status.idle": "2022-11-17T11:27:41.428724Z",
     "shell.execute_reply": "2022-11-17T11:27:41.427977Z"
    },
    "papermill": {
     "duration": 0.290626,
     "end_time": "2022-11-17T11:27:41.431091",
     "exception": false,
     "start_time": "2022-11-17T11:27:41.140465",
     "status": "completed"
    },
    "tags": []
   },
   "outputs": [
    {
     "name": "stderr",
     "output_type": "stream",
     "text": [
      "C:\\Users\\alikh\\AppData\\Local\\Temp\\ipykernel_26420\\532085755.py:1: UserWarning: \n",
      "\n",
      "`distplot` is a deprecated function and will be removed in seaborn v0.14.0.\n",
      "\n",
      "Please adapt your code to use either `displot` (a figure-level function with\n",
      "similar flexibility) or `histplot` (an axes-level function for histograms).\n",
      "\n",
      "For a guide to updating your code to use the new functions, please see\n",
      "https://gist.github.com/mwaskom/de44147ed2974457ad6372750bbe5751\n",
      "\n",
      "  sns.distplot((Y_test-pred_test))\n"
     ]
    },
    {
     "data": {
      "text/plain": [
       "<Axes: xlabel='Selling_Price', ylabel='Density'>"
      ]
     },
     "execution_count": 88,
     "metadata": {},
     "output_type": "execute_result"
    },
    {
     "data": {
      "image/png": "[encoded data removed]",
      "text/plain": [
       "<Figure size 640x480 with 1 Axes>"
      ]
     },
     "metadata": {},
     "output_type": "display_data"
    }
   ],
   "source": [
    "sns.distplot((Y_test-pred_test))"
   ]
  },
  {
   "cell_type": "markdown",
   "id": "34dc159e",
   "metadata": {
    "papermill": {
     "duration": 0.020694,
     "end_time": "2022-11-17T11:27:41.472715",
     "exception": false,
     "start_time": "2022-11-17T11:27:41.452021",
     "status": "completed"
    },
    "tags": []
   },
   "source": [
    "# The residuals are following the normally    distributed with a mean 0. All good!"
   ]
  },
  {
   "cell_type": "markdown",
   "id": "34d5a4d8",
   "metadata": {},
   "source": []
  },
  {
   "cell_type": "code",
   "execution_count": null,
   "id": "3c04f7c0",
   "metadata": {},
   "outputs": [],
   "source": [
    "## I also want to check the residual plot\n"
   ]
  }
 ],
 "metadata": {
  "kernelspec": {
   "display_name": "Python 3",
   "language": "python",
   "name": "python3"
  },
  "language_info": {
   "codemirror_mode": {
    "name": "ipython",
    "version": 3
   },
   "file_extension": ".py",
   "mimetype": "text/x-python",
   "name": "python",
   "nbconvert_exporter": "python",
   "pygments_lexer": "ipython3",
   "version": "3.11.5"
  },
  "papermill": {
   "default_parameters": {},
   "duration": 22.046645,
   "end_time": "2022-11-17T11:27:42.416749",
   "environment_variables": {},
   "exception": null,
   "input_path": "__notebook__.ipynb",
   "output_path": "__notebook__.ipynb",
   "parameters": {},
   "start_time": "2022-11-17T11:27:20.370104",
   "version": "2.3.4"
  }
 },
 "nbformat": 4,
 "nbformat_minor": 5
}
